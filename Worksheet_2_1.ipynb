{
  "nbformat": 4,
  "nbformat_minor": 0,
  "metadata": {
    "colab": {
      "name": "Worksheet-2.1.ipynb",
      "provenance": [],
      "collapsed_sections": []
    },
    "kernelspec": {
      "name": "python3",
      "display_name": "Python 3"
    }
  },
  "cells": [
    {
      "cell_type": "markdown",
      "metadata": {
        "id": "owD1ZWHrmVYt"
      },
      "source": [
        "# Welcome to Worksheet 2.1 Let's Start Coding......!"
      ]
    },
    {
      "cell_type": "markdown",
      "metadata": {
        "id": "gtVvkrZZgwxk"
      },
      "source": [
        "Question 1 - Write a program which can take the user's name and print a greeting message along with the name."
      ]
    },
    {
      "cell_type": "code",
      "metadata": {
        "id": "Hxp1VbuGhXDA"
      },
      "source": [
        "#write your code here"
      ],
      "execution_count": null,
      "outputs": []
    },
    {
      "cell_type": "code",
      "metadata": {
        "id": "EJfnSjXKi-Fx"
      },
      "source": [
        ""
      ],
      "execution_count": null,
      "outputs": []
    },
    {
      "cell_type": "code",
      "metadata": {
        "id": "2kf_Qz9cGavN"
      },
      "source": [
        ""
      ],
      "execution_count": null,
      "outputs": []
    },
    {
      "cell_type": "markdown",
      "metadata": {
        "id": "6fEZ-LDChX_F"
      },
      "source": [
        "Question 2 - Let's try to play with numbers, take two numbers as input and print their sum along with a message."
      ]
    },
    {
      "cell_type": "code",
      "metadata": {
        "id": "iJ7RVSjqhnWf"
      },
      "source": [
        "#write your code here"
      ],
      "execution_count": null,
      "outputs": []
    },
    {
      "cell_type": "code",
      "metadata": {
        "id": "d-6OlV-n-mKZ"
      },
      "source": [
        ""
      ],
      "execution_count": null,
      "outputs": []
    },
    {
      "cell_type": "code",
      "metadata": {
        "id": "Or8lEYkrGgLc"
      },
      "source": [
        ""
      ],
      "execution_count": null,
      "outputs": []
    },
    {
      "cell_type": "markdown",
      "metadata": {
        "id": "FNSfALLvhoML"
      },
      "source": [
        "Question 3 - Okay let's level up the numbers game, input length and breadth of a rectangle from the user and calculate it's area."
      ]
    },
    {
      "cell_type": "code",
      "metadata": {
        "id": "caZGkx10ifdw"
      },
      "source": [
        "#write your code here"
      ],
      "execution_count": null,
      "outputs": []
    },
    {
      "cell_type": "code",
      "metadata": {
        "id": "1j1iDSltifTl"
      },
      "source": [
        ""
      ],
      "execution_count": null,
      "outputs": []
    },
    {
      "cell_type": "code",
      "metadata": {
        "id": "qN0237uYGhcz"
      },
      "source": [
        ""
      ],
      "execution_count": null,
      "outputs": []
    },
    {
      "cell_type": "markdown",
      "metadata": {
        "id": "E6ZFXaLVifzp"
      },
      "source": [
        "Question 4 - Whoa! you are becoming a pro now. Let's see if you could solve this one.<br> Input a number and print it's cube.<br>\n",
        "Quite Simple but can you write multiple solutions for this."
      ]
    },
    {
      "cell_type": "code",
      "metadata": {
        "id": "h3tIjRyxjtHP"
      },
      "source": [
        "#write your code here"
      ],
      "execution_count": null,
      "outputs": []
    },
    {
      "cell_type": "code",
      "metadata": {
        "id": "Yg4BHZAhGkag"
      },
      "source": [
        ""
      ],
      "execution_count": null,
      "outputs": []
    },
    {
      "cell_type": "code",
      "metadata": {
        "id": "pd9qLVqMjseY"
      },
      "source": [
        ""
      ],
      "execution_count": null,
      "outputs": []
    },
    {
      "cell_type": "markdown",
      "metadata": {
        "id": "j5R3ZjMdgpgD"
      },
      "source": [
        "Question 5 - Write a program to input a number 'n' and print it's Square and Cube.\n",
        "\n",
        "\n",
        "\n"
      ]
    },
    {
      "cell_type": "code",
      "metadata": {
        "id": "RQ0eSQgsg-UN"
      },
      "source": [
        "#write your code here"
      ],
      "execution_count": null,
      "outputs": []
    },
    {
      "cell_type": "code",
      "metadata": {
        "id": "kWmWQ0pUGmW6"
      },
      "source": [
        ""
      ],
      "execution_count": null,
      "outputs": []
    },
    {
      "cell_type": "code",
      "metadata": {
        "id": "xIHjMdc-g9xx"
      },
      "source": [
        ""
      ],
      "execution_count": null,
      "outputs": []
    },
    {
      "cell_type": "markdown",
      "metadata": {
        "id": "QIweAYZyjtfd"
      },
      "source": [
        "Question 6 - Write a program to input values in Km and convert it into miles.<br> (1Km = 0.621371 Miles)"
      ]
    },
    {
      "cell_type": "code",
      "metadata": {
        "id": "pgtWTD6UmJM3"
      },
      "source": [
        "#write your code here"
      ],
      "execution_count": null,
      "outputs": []
    },
    {
      "cell_type": "code",
      "metadata": {
        "id": "Qs7aSZVYmI8N"
      },
      "source": [
        ""
      ],
      "execution_count": null,
      "outputs": []
    },
    {
      "cell_type": "code",
      "metadata": {
        "id": "YGE7TldpGoe0"
      },
      "source": [
        ""
      ],
      "execution_count": null,
      "outputs": []
    },
    {
      "cell_type": "markdown",
      "metadata": {
        "id": "eH6JqjnDnDTK"
      },
      "source": [
        "Quetion 7 - Write a program to input in Quintals and convert it into Grams and Kilograms.\n"
      ]
    },
    {
      "cell_type": "code",
      "metadata": {
        "id": "QL0iif6e1fDB"
      },
      "source": [
        "#write your code here"
      ],
      "execution_count": null,
      "outputs": []
    },
    {
      "cell_type": "code",
      "metadata": {
        "id": "SQ3cL73iGqT8"
      },
      "source": [
        ""
      ],
      "execution_count": null,
      "outputs": []
    },
    {
      "cell_type": "code",
      "metadata": {
        "id": "BW0fclQ81eod"
      },
      "source": [
        ""
      ],
      "execution_count": null,
      "outputs": []
    },
    {
      "cell_type": "markdown",
      "metadata": {
        "id": "5GtIPfPu1ffK"
      },
      "source": [
        "Quetion 8 - Write a program to input two numbers and swape them with each other."
      ]
    },
    {
      "cell_type": "code",
      "metadata": {
        "id": "0PTaUlxd1ti-"
      },
      "source": [
        "#write your code here"
      ],
      "execution_count": null,
      "outputs": []
    },
    {
      "cell_type": "code",
      "metadata": {
        "id": "gRj_myDWGsF1"
      },
      "source": [
        ""
      ],
      "execution_count": null,
      "outputs": []
    },
    {
      "cell_type": "code",
      "metadata": {
        "id": "CaKkRcYQ1tXG"
      },
      "source": [
        ""
      ],
      "execution_count": null,
      "outputs": []
    },
    {
      "cell_type": "markdown",
      "metadata": {
        "id": "qQfITseA1uA-"
      },
      "source": [
        "Question 9 - Write a program to input three numbers and swap them as this:<br> First number becomes second number, second number becomes third number and third number becomes the first number "
      ]
    },
    {
      "cell_type": "code",
      "metadata": {
        "id": "uN2fZvst2PMn"
      },
      "source": [
        "#write your code here"
      ],
      "execution_count": null,
      "outputs": []
    },
    {
      "cell_type": "code",
      "metadata": {
        "id": "b6BDlSq52PAn"
      },
      "source": [
        ""
      ],
      "execution_count": null,
      "outputs": []
    },
    {
      "cell_type": "code",
      "metadata": {
        "id": "ajrlShxnGuez"
      },
      "source": [
        ""
      ],
      "execution_count": null,
      "outputs": []
    },
    {
      "cell_type": "markdown",
      "metadata": {
        "id": "Nuwyjhpd2Plm"
      },
      "source": [
        "Question 10 - Write a program to inout three numbers and swap them as this:<br>\n",
        "1st number gets the value of 1st+2nd<br>\n",
        "2nd number gets the value of 1st+3rd<br>\n",
        "3rd number gets the value of 3rd+2nd<br>\n"
      ]
    },
    {
      "cell_type": "code",
      "metadata": {
        "id": "wnUkVAWtaqhY"
      },
      "source": [
        "#write your code here"
      ],
      "execution_count": null,
      "outputs": []
    },
    {
      "cell_type": "code",
      "metadata": {
        "id": "4yBd4NkqaqJM"
      },
      "source": [
        ""
      ],
      "execution_count": null,
      "outputs": []
    },
    {
      "cell_type": "code",
      "metadata": {
        "id": "hKfoIKleGwoo"
      },
      "source": [
        ""
      ],
      "execution_count": null,
      "outputs": []
    },
    {
      "cell_type": "markdown",
      "metadata": {
        "id": "5PCcGKPviNFw"
      },
      "source": [
        "Visit [Jobaajlearnings.com ](http://learnings.jobaaj.com/)for more Courses<br><br>\n",
        "Connect with Us on <br>\n",
        "\n",
        "\n",
        "*  [Instagram](https://www.instagram.com/jobaaj.com_/)<br> \n",
        "*  [LinkedIn](https://www.linkedin.com/showcase/jobaaj-learnings/)<br>\n",
        "*  [Medium](https://jobaaj-com.medium.com/)<br>\n",
        "\n",
        "Connect with the Instructor on <br>\n",
        "\n",
        "\n",
        "*  [Instagram](https://www.instagram.com/shivavashishtha_/)<br> \n",
        "*  [LinkedIn](https://www.linkedin.com/in/shivavashishtha/)<br>\n",
        "*  [Medium](https://medium.com/@shiva.vashishtha)<br>\n",
        "*  [GitHub](https://github.com/shivavashishtha)<br>\n",
        "\n",
        "\n",
        "\n"
      ]
    }
  ]
}